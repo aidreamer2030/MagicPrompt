{
  "nbformat": 4,
  "nbformat_minor": 0,
  "metadata": {
    "colab": {
      "provenance": [],
      "gpuType": "T4"
    },
    "kernelspec": {
      "name": "python3",
      "display_name": "Python 3"
    },
    "language_info": {
      "name": "python"
    },
    "accelerator": "GPU"
  },
  "cells": [
    {
      "cell_type": "code",
      "execution_count": null,
      "metadata": {
        "id": "VfdtjVIpFgCA"
      },
      "outputs": [],
      "source": [
        "!git clone https://github.com/aidreamer2030/MagicPrompt.git\n",
        "%cd MagicPrompt\n",
        "!pip install -r requirements.txt\n",
        "!python MagicPrompt.py"
      ]
    }
  ]
}